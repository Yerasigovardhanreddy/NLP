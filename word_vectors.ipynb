{
 "cells": [
  {
   "cell_type": "markdown",
   "id": "472d718b",
   "metadata": {},
   "source": [
    "## spacy_text_classification"
   ]
  },
  {
   "cell_type": "code",
   "execution_count": 4,
   "id": "dbf8ab1b",
   "metadata": {},
   "outputs": [],
   "source": [
    "import spacy\n",
    "\n",
    "nlp = spacy.load(\"en_core_web_lg\")\n",
    "\n",
    "import pandas as pd"
   ]
  },
  {
   "cell_type": "code",
   "execution_count": 5,
   "id": "ab9f0e0f",
   "metadata": {},
   "outputs": [],
   "source": [
    "df = pd.read_json(\"news_dataset.json\")"
   ]
  },
  {
   "cell_type": "code",
   "execution_count": 6,
   "id": "f8786a45",
   "metadata": {},
   "outputs": [
    {
     "data": {
      "text/html": [
       "<div>\n",
       "<style scoped>\n",
       "    .dataframe tbody tr th:only-of-type {\n",
       "        vertical-align: middle;\n",
       "    }\n",
       "\n",
       "    .dataframe tbody tr th {\n",
       "        vertical-align: top;\n",
       "    }\n",
       "\n",
       "    .dataframe thead th {\n",
       "        text-align: right;\n",
       "    }\n",
       "</style>\n",
       "<table border=\"1\" class=\"dataframe\">\n",
       "  <thead>\n",
       "    <tr style=\"text-align: right;\">\n",
       "      <th></th>\n",
       "      <th>text</th>\n",
       "      <th>category</th>\n",
       "    </tr>\n",
       "  </thead>\n",
       "  <tbody>\n",
       "    <tr>\n",
       "      <th>0</th>\n",
       "      <td>Watching Schrödinger's Cat Die University of C...</td>\n",
       "      <td>SCIENCE</td>\n",
       "    </tr>\n",
       "    <tr>\n",
       "      <th>1</th>\n",
       "      <td>WATCH: Freaky Vortex Opens Up In Flooded Lake</td>\n",
       "      <td>SCIENCE</td>\n",
       "    </tr>\n",
       "    <tr>\n",
       "      <th>2</th>\n",
       "      <td>Entrepreneurs Today Don't Need a Big Budget to...</td>\n",
       "      <td>BUSINESS</td>\n",
       "    </tr>\n",
       "    <tr>\n",
       "      <th>3</th>\n",
       "      <td>These Roads Could Recharge Your Electric Car A...</td>\n",
       "      <td>BUSINESS</td>\n",
       "    </tr>\n",
       "    <tr>\n",
       "      <th>4</th>\n",
       "      <td>Civilian 'Guard' Fires Gun While 'Protecting' ...</td>\n",
       "      <td>CRIME</td>\n",
       "    </tr>\n",
       "  </tbody>\n",
       "</table>\n",
       "</div>"
      ],
      "text/plain": [
       "                                                text  category\n",
       "0  Watching Schrödinger's Cat Die University of C...   SCIENCE\n",
       "1     WATCH: Freaky Vortex Opens Up In Flooded Lake    SCIENCE\n",
       "2  Entrepreneurs Today Don't Need a Big Budget to...  BUSINESS\n",
       "3  These Roads Could Recharge Your Electric Car A...  BUSINESS\n",
       "4  Civilian 'Guard' Fires Gun While 'Protecting' ...     CRIME"
      ]
     },
     "execution_count": 6,
     "metadata": {},
     "output_type": "execute_result"
    }
   ],
   "source": [
    "df.head()"
   ]
  },
  {
   "cell_type": "code",
   "execution_count": 7,
   "id": "d8dd2060",
   "metadata": {},
   "outputs": [
    {
     "data": {
      "text/plain": [
       "(12695, 2)"
      ]
     },
     "execution_count": 7,
     "metadata": {},
     "output_type": "execute_result"
    }
   ],
   "source": [
    "df.shape"
   ]
  },
  {
   "cell_type": "code",
   "execution_count": 9,
   "id": "e773034f",
   "metadata": {
    "scrolled": false
   },
   "outputs": [
    {
     "data": {
      "text/plain": [
       "BUSINESS    4254\n",
       "SPORTS      4167\n",
       "CRIME       2893\n",
       "SCIENCE     1381\n",
       "Name: category, dtype: int64"
      ]
     },
     "execution_count": 9,
     "metadata": {},
     "output_type": "execute_result"
    }
   ],
   "source": [
    "df['category'].value_counts()"
   ]
  },
  {
   "cell_type": "code",
   "execution_count": null,
   "id": "cb4066c9",
   "metadata": {},
   "outputs": [],
   "source": [
    "## "
   ]
  },
  {
   "cell_type": "code",
   "execution_count": 22,
   "id": "232e1613",
   "metadata": {},
   "outputs": [],
   "source": [
    "crime = df[df['category'] == \"CRIME\"].sample(1381)\n",
    "sports = df[df['category'] == \"SPORTS\"].sample(1381)\n",
    "Business = df[df['category'] == \"BUSINESS\"].sample(1381)\n",
    "science = df[df['category']== \"SCIENCE\"]"
   ]
  },
  {
   "cell_type": "code",
   "execution_count": 23,
   "id": "2a63179a",
   "metadata": {},
   "outputs": [],
   "source": [
    "df1 = pd.concat([crime,sports,Business,science],axis=0)"
   ]
  },
  {
   "cell_type": "code",
   "execution_count": 24,
   "id": "dd3412e9",
   "metadata": {},
   "outputs": [
    {
     "data": {
      "text/html": [
       "<div>\n",
       "<style scoped>\n",
       "    .dataframe tbody tr th:only-of-type {\n",
       "        vertical-align: middle;\n",
       "    }\n",
       "\n",
       "    .dataframe tbody tr th {\n",
       "        vertical-align: top;\n",
       "    }\n",
       "\n",
       "    .dataframe thead th {\n",
       "        text-align: right;\n",
       "    }\n",
       "</style>\n",
       "<table border=\"1\" class=\"dataframe\">\n",
       "  <thead>\n",
       "    <tr style=\"text-align: right;\">\n",
       "      <th></th>\n",
       "      <th>text</th>\n",
       "      <th>category</th>\n",
       "    </tr>\n",
       "  </thead>\n",
       "  <tbody>\n",
       "    <tr>\n",
       "      <th>4472</th>\n",
       "      <td>Cop Spends 2 Months Working Undercover At Burg...</td>\n",
       "      <td>CRIME</td>\n",
       "    </tr>\n",
       "    <tr>\n",
       "      <th>1533</th>\n",
       "      <td>32 Prison Guards Fired Amid Outrage Over Inmat...</td>\n",
       "      <td>CRIME</td>\n",
       "    </tr>\n",
       "    <tr>\n",
       "      <th>2630</th>\n",
       "      <td>Registered Sex Offender Allegedly Caught Worki...</td>\n",
       "      <td>CRIME</td>\n",
       "    </tr>\n",
       "    <tr>\n",
       "      <th>11786</th>\n",
       "      <td>Father Of 3 Girls Abused By Larry Nassar Tries...</td>\n",
       "      <td>CRIME</td>\n",
       "    </tr>\n",
       "    <tr>\n",
       "      <th>5361</th>\n",
       "      <td>David &amp; Me Chronicles Rubin Carter's Fight to ...</td>\n",
       "      <td>CRIME</td>\n",
       "    </tr>\n",
       "    <tr>\n",
       "      <th>...</th>\n",
       "      <td>...</td>\n",
       "      <td>...</td>\n",
       "    </tr>\n",
       "    <tr>\n",
       "      <th>12632</th>\n",
       "      <td>New Continent Zealandia Is Discovered Underwat...</td>\n",
       "      <td>SCIENCE</td>\n",
       "    </tr>\n",
       "    <tr>\n",
       "      <th>12644</th>\n",
       "      <td>Smartphone Lovers More Likely To Forget Things...</td>\n",
       "      <td>SCIENCE</td>\n",
       "    </tr>\n",
       "    <tr>\n",
       "      <th>12669</th>\n",
       "      <td>Ambitious Test On Tap For Real-Life 'Flying Sa...</td>\n",
       "      <td>SCIENCE</td>\n",
       "    </tr>\n",
       "    <tr>\n",
       "      <th>12691</th>\n",
       "      <td>This Minivan-Sized Sea Sponge Is Thought To Be...</td>\n",
       "      <td>SCIENCE</td>\n",
       "    </tr>\n",
       "    <tr>\n",
       "      <th>12692</th>\n",
       "      <td>RECAP: Dramatic Eclipse Photos Don't miss the ...</td>\n",
       "      <td>SCIENCE</td>\n",
       "    </tr>\n",
       "  </tbody>\n",
       "</table>\n",
       "<p>5524 rows × 2 columns</p>\n",
       "</div>"
      ],
      "text/plain": [
       "                                                    text category\n",
       "4472   Cop Spends 2 Months Working Undercover At Burg...    CRIME\n",
       "1533   32 Prison Guards Fired Amid Outrage Over Inmat...    CRIME\n",
       "2630   Registered Sex Offender Allegedly Caught Worki...    CRIME\n",
       "11786  Father Of 3 Girls Abused By Larry Nassar Tries...    CRIME\n",
       "5361   David & Me Chronicles Rubin Carter's Fight to ...    CRIME\n",
       "...                                                  ...      ...\n",
       "12632  New Continent Zealandia Is Discovered Underwat...  SCIENCE\n",
       "12644  Smartphone Lovers More Likely To Forget Things...  SCIENCE\n",
       "12669  Ambitious Test On Tap For Real-Life 'Flying Sa...  SCIENCE\n",
       "12691  This Minivan-Sized Sea Sponge Is Thought To Be...  SCIENCE\n",
       "12692  RECAP: Dramatic Eclipse Photos Don't miss the ...  SCIENCE\n",
       "\n",
       "[5524 rows x 2 columns]"
      ]
     },
     "execution_count": 24,
     "metadata": {},
     "output_type": "execute_result"
    }
   ],
   "source": [
    "df1"
   ]
  },
  {
   "cell_type": "code",
   "execution_count": 25,
   "id": "28b5f4fa",
   "metadata": {},
   "outputs": [
    {
     "data": {
      "text/plain": [
       "CRIME       1381\n",
       "SPORTS      1381\n",
       "BUSINESS    1381\n",
       "SCIENCE     1381\n",
       "Name: category, dtype: int64"
      ]
     },
     "execution_count": 25,
     "metadata": {},
     "output_type": "execute_result"
    }
   ],
   "source": [
    "df1['category'].value_counts()"
   ]
  },
  {
   "cell_type": "code",
   "execution_count": 27,
   "id": "96e0a6a9",
   "metadata": {},
   "outputs": [],
   "source": [
    "df1['label_num'] = df['category'].map({'CRIME': 0, 'SPORTS': 1, 'BUSINESS': 2,\"SCIENCE\": 3})\n"
   ]
  },
  {
   "cell_type": "code",
   "execution_count": 28,
   "id": "aa1211f7",
   "metadata": {},
   "outputs": [
    {
     "data": {
      "text/html": [
       "<div>\n",
       "<style scoped>\n",
       "    .dataframe tbody tr th:only-of-type {\n",
       "        vertical-align: middle;\n",
       "    }\n",
       "\n",
       "    .dataframe tbody tr th {\n",
       "        vertical-align: top;\n",
       "    }\n",
       "\n",
       "    .dataframe thead th {\n",
       "        text-align: right;\n",
       "    }\n",
       "</style>\n",
       "<table border=\"1\" class=\"dataframe\">\n",
       "  <thead>\n",
       "    <tr style=\"text-align: right;\">\n",
       "      <th></th>\n",
       "      <th>text</th>\n",
       "      <th>category</th>\n",
       "      <th>label_num</th>\n",
       "    </tr>\n",
       "  </thead>\n",
       "  <tbody>\n",
       "    <tr>\n",
       "      <th>4472</th>\n",
       "      <td>Cop Spends 2 Months Working Undercover At Burg...</td>\n",
       "      <td>CRIME</td>\n",
       "      <td>0</td>\n",
       "    </tr>\n",
       "    <tr>\n",
       "      <th>1533</th>\n",
       "      <td>32 Prison Guards Fired Amid Outrage Over Inmat...</td>\n",
       "      <td>CRIME</td>\n",
       "      <td>0</td>\n",
       "    </tr>\n",
       "    <tr>\n",
       "      <th>2630</th>\n",
       "      <td>Registered Sex Offender Allegedly Caught Worki...</td>\n",
       "      <td>CRIME</td>\n",
       "      <td>0</td>\n",
       "    </tr>\n",
       "    <tr>\n",
       "      <th>11786</th>\n",
       "      <td>Father Of 3 Girls Abused By Larry Nassar Tries...</td>\n",
       "      <td>CRIME</td>\n",
       "      <td>0</td>\n",
       "    </tr>\n",
       "    <tr>\n",
       "      <th>5361</th>\n",
       "      <td>David &amp; Me Chronicles Rubin Carter's Fight to ...</td>\n",
       "      <td>CRIME</td>\n",
       "      <td>0</td>\n",
       "    </tr>\n",
       "  </tbody>\n",
       "</table>\n",
       "</div>"
      ],
      "text/plain": [
       "                                                    text category  label_num\n",
       "4472   Cop Spends 2 Months Working Undercover At Burg...    CRIME          0\n",
       "1533   32 Prison Guards Fired Amid Outrage Over Inmat...    CRIME          0\n",
       "2630   Registered Sex Offender Allegedly Caught Worki...    CRIME          0\n",
       "11786  Father Of 3 Girls Abused By Larry Nassar Tries...    CRIME          0\n",
       "5361   David & Me Chronicles Rubin Carter's Fight to ...    CRIME          0"
      ]
     },
     "execution_count": 28,
     "metadata": {},
     "output_type": "execute_result"
    }
   ],
   "source": [
    "df1.head()"
   ]
  },
  {
   "cell_type": "markdown",
   "id": "a5265da4",
   "metadata": {},
   "source": [
    "## Preprocess the text"
   ]
  },
  {
   "cell_type": "code",
   "execution_count": 29,
   "id": "84e52cc1",
   "metadata": {},
   "outputs": [],
   "source": [
    "#use this utility function to preprocess the text\n",
    "#1. Remove the stop words\n",
    "#2. Convert to base form using lemmatisation\n",
    "\n",
    "def preprocess(text):\n",
    "    doc = nlp(text)\n",
    "    filtered_tokens = []\n",
    "    for token in doc:\n",
    "        if token.is_stop or token.is_punct:\n",
    "            continue\n",
    "        filtered_tokens.append(token.lemma_)\n",
    "    return ' '.join(filtered_tokens)"
   ]
  },
  {
   "cell_type": "code",
   "execution_count": 33,
   "id": "4b4706e9",
   "metadata": {},
   "outputs": [],
   "source": [
    "df1['preprocessed_text'] = df1['text'].apply(lambda text: preprocess(text))\n"
   ]
  },
  {
   "cell_type": "code",
   "execution_count": 34,
   "id": "6c0607f7",
   "metadata": {},
   "outputs": [
    {
     "data": {
      "text/html": [
       "<div>\n",
       "<style scoped>\n",
       "    .dataframe tbody tr th:only-of-type {\n",
       "        vertical-align: middle;\n",
       "    }\n",
       "\n",
       "    .dataframe tbody tr th {\n",
       "        vertical-align: top;\n",
       "    }\n",
       "\n",
       "    .dataframe thead th {\n",
       "        text-align: right;\n",
       "    }\n",
       "</style>\n",
       "<table border=\"1\" class=\"dataframe\">\n",
       "  <thead>\n",
       "    <tr style=\"text-align: right;\">\n",
       "      <th></th>\n",
       "      <th>text</th>\n",
       "      <th>category</th>\n",
       "      <th>label_num</th>\n",
       "      <th>preprocessed_text</th>\n",
       "    </tr>\n",
       "  </thead>\n",
       "  <tbody>\n",
       "    <tr>\n",
       "      <th>4472</th>\n",
       "      <td>Cop Spends 2 Months Working Undercover At Burg...</td>\n",
       "      <td>CRIME</td>\n",
       "      <td>0</td>\n",
       "      <td>cop spend 2 month Working Undercover Burger Ki...</td>\n",
       "    </tr>\n",
       "    <tr>\n",
       "      <th>1533</th>\n",
       "      <td>32 Prison Guards Fired Amid Outrage Over Inmat...</td>\n",
       "      <td>CRIME</td>\n",
       "      <td>0</td>\n",
       "      <td>32 Prison Guards fire amid outrage Inmate abuse</td>\n",
       "    </tr>\n",
       "    <tr>\n",
       "      <th>2630</th>\n",
       "      <td>Registered Sex Offender Allegedly Caught Worki...</td>\n",
       "      <td>CRIME</td>\n",
       "      <td>0</td>\n",
       "      <td>register sex offender allegedly catch Working ...</td>\n",
       "    </tr>\n",
       "    <tr>\n",
       "      <th>11786</th>\n",
       "      <td>Father Of 3 Girls Abused By Larry Nassar Tries...</td>\n",
       "      <td>CRIME</td>\n",
       "      <td>0</td>\n",
       "      <td>Father 3 girl abuse Larry Nassar try attack Co...</td>\n",
       "    </tr>\n",
       "    <tr>\n",
       "      <th>5361</th>\n",
       "      <td>David &amp; Me Chronicles Rubin Carter's Fight to ...</td>\n",
       "      <td>CRIME</td>\n",
       "      <td>0</td>\n",
       "      <td>David Chronicles Rubin Carter fight free David...</td>\n",
       "    </tr>\n",
       "  </tbody>\n",
       "</table>\n",
       "</div>"
      ],
      "text/plain": [
       "                                                    text category  label_num  \\\n",
       "4472   Cop Spends 2 Months Working Undercover At Burg...    CRIME          0   \n",
       "1533   32 Prison Guards Fired Amid Outrage Over Inmat...    CRIME          0   \n",
       "2630   Registered Sex Offender Allegedly Caught Worki...    CRIME          0   \n",
       "11786  Father Of 3 Girls Abused By Larry Nassar Tries...    CRIME          0   \n",
       "5361   David & Me Chronicles Rubin Carter's Fight to ...    CRIME          0   \n",
       "\n",
       "                                       preprocessed_text  \n",
       "4472   cop spend 2 month Working Undercover Burger Ki...  \n",
       "1533     32 Prison Guards fire amid outrage Inmate abuse  \n",
       "2630   register sex offender allegedly catch Working ...  \n",
       "11786  Father 3 girl abuse Larry Nassar try attack Co...  \n",
       "5361   David Chronicles Rubin Carter fight free David...  "
      ]
     },
     "execution_count": 34,
     "metadata": {},
     "output_type": "execute_result"
    }
   ],
   "source": [
    "df1.head()"
   ]
  },
  {
   "cell_type": "markdown",
   "id": "8a513f94",
   "metadata": {},
   "source": [
    "## Get the spacy embeddings for each preprocessed text"
   ]
  },
  {
   "cell_type": "code",
   "execution_count": 37,
   "id": "f4fd78a0",
   "metadata": {},
   "outputs": [],
   "source": [
    "df1['vector'] = df1['preprocessed_text'].apply(lambda x: nlp(x).vector)"
   ]
  },
  {
   "cell_type": "code",
   "execution_count": 38,
   "id": "e907348d",
   "metadata": {},
   "outputs": [
    {
     "data": {
      "text/html": [
       "<div>\n",
       "<style scoped>\n",
       "    .dataframe tbody tr th:only-of-type {\n",
       "        vertical-align: middle;\n",
       "    }\n",
       "\n",
       "    .dataframe tbody tr th {\n",
       "        vertical-align: top;\n",
       "    }\n",
       "\n",
       "    .dataframe thead th {\n",
       "        text-align: right;\n",
       "    }\n",
       "</style>\n",
       "<table border=\"1\" class=\"dataframe\">\n",
       "  <thead>\n",
       "    <tr style=\"text-align: right;\">\n",
       "      <th></th>\n",
       "      <th>text</th>\n",
       "      <th>category</th>\n",
       "      <th>label_num</th>\n",
       "      <th>preprocessed_text</th>\n",
       "      <th>vector</th>\n",
       "    </tr>\n",
       "  </thead>\n",
       "  <tbody>\n",
       "    <tr>\n",
       "      <th>4472</th>\n",
       "      <td>Cop Spends 2 Months Working Undercover At Burg...</td>\n",
       "      <td>CRIME</td>\n",
       "      <td>0</td>\n",
       "      <td>cop spend 2 month Working Undercover Burger Ki...</td>\n",
       "      <td>[-0.47465503, -1.6749907, -1.541578, 2.1127243...</td>\n",
       "    </tr>\n",
       "    <tr>\n",
       "      <th>1533</th>\n",
       "      <td>32 Prison Guards Fired Amid Outrage Over Inmat...</td>\n",
       "      <td>CRIME</td>\n",
       "      <td>0</td>\n",
       "      <td>32 Prison Guards fire amid outrage Inmate abuse</td>\n",
       "      <td>[-1.2402613, -0.4319775, -0.8546501, 2.4027958...</td>\n",
       "    </tr>\n",
       "    <tr>\n",
       "      <th>2630</th>\n",
       "      <td>Registered Sex Offender Allegedly Caught Worki...</td>\n",
       "      <td>CRIME</td>\n",
       "      <td>0</td>\n",
       "      <td>register sex offender allegedly catch Working ...</td>\n",
       "      <td>[-0.70547575, -0.71199733, -0.7324689, 0.02349...</td>\n",
       "    </tr>\n",
       "    <tr>\n",
       "      <th>11786</th>\n",
       "      <td>Father Of 3 Girls Abused By Larry Nassar Tries...</td>\n",
       "      <td>CRIME</td>\n",
       "      <td>0</td>\n",
       "      <td>Father 3 girl abuse Larry Nassar try attack Co...</td>\n",
       "      <td>[-0.81796867, -1.071301, -1.6527829, 0.2016591...</td>\n",
       "    </tr>\n",
       "    <tr>\n",
       "      <th>5361</th>\n",
       "      <td>David &amp; Me Chronicles Rubin Carter's Fight to ...</td>\n",
       "      <td>CRIME</td>\n",
       "      <td>0</td>\n",
       "      <td>David Chronicles Rubin Carter fight free David...</td>\n",
       "      <td>[-0.90160364, 0.45512724, -1.2568977, 1.124486...</td>\n",
       "    </tr>\n",
       "  </tbody>\n",
       "</table>\n",
       "</div>"
      ],
      "text/plain": [
       "                                                    text category  label_num  \\\n",
       "4472   Cop Spends 2 Months Working Undercover At Burg...    CRIME          0   \n",
       "1533   32 Prison Guards Fired Amid Outrage Over Inmat...    CRIME          0   \n",
       "2630   Registered Sex Offender Allegedly Caught Worki...    CRIME          0   \n",
       "11786  Father Of 3 Girls Abused By Larry Nassar Tries...    CRIME          0   \n",
       "5361   David & Me Chronicles Rubin Carter's Fight to ...    CRIME          0   \n",
       "\n",
       "                                       preprocessed_text  \\\n",
       "4472   cop spend 2 month Working Undercover Burger Ki...   \n",
       "1533     32 Prison Guards fire amid outrage Inmate abuse   \n",
       "2630   register sex offender allegedly catch Working ...   \n",
       "11786  Father 3 girl abuse Larry Nassar try attack Co...   \n",
       "5361   David Chronicles Rubin Carter fight free David...   \n",
       "\n",
       "                                                  vector  \n",
       "4472   [-0.47465503, -1.6749907, -1.541578, 2.1127243...  \n",
       "1533   [-1.2402613, -0.4319775, -0.8546501, 2.4027958...  \n",
       "2630   [-0.70547575, -0.71199733, -0.7324689, 0.02349...  \n",
       "11786  [-0.81796867, -1.071301, -1.6527829, 0.2016591...  \n",
       "5361   [-0.90160364, 0.45512724, -1.2568977, 1.124486...  "
      ]
     },
     "execution_count": 38,
     "metadata": {},
     "output_type": "execute_result"
    }
   ],
   "source": [
    "df1.head(5)"
   ]
  },
  {
   "cell_type": "markdown",
   "id": "1812e37d",
   "metadata": {},
   "source": [
    "## Train-Test splitting\n",
    "\n"
   ]
  },
  {
   "cell_type": "code",
   "execution_count": 39,
   "id": "8e0807ac",
   "metadata": {},
   "outputs": [],
   "source": [
    "from sklearn.model_selection import train_test_split\n",
    "\n",
    "\n",
    "#Do the 'train-test' splitting with test size of 20% with random state of 2022 and stratify sampling too\n",
    "X_train, X_test, y_train, y_test = train_test_split(\n",
    "    df1.vector.values, \n",
    "    df1.label_num, \n",
    "    test_size=0.2, # 20% samples will go to test dataset\n",
    "    random_state=2022,\n",
    "    stratify=df1.label_num\n",
    ")"
   ]
  },
  {
   "cell_type": "markdown",
   "id": "843f7fe7",
   "metadata": {},
   "source": [
    "### Reshape the X_train and X_test so as to fit for models\n",
    "\n"
   ]
  },
  {
   "cell_type": "code",
   "execution_count": 41,
   "id": "fbc4e46e",
   "metadata": {},
   "outputs": [],
   "source": [
    "import numpy as np\n",
    "\n",
    "X_train_2d = np.stack(X_train)\n",
    "X_test_2d = np.stack(X_test)\n"
   ]
  },
  {
   "cell_type": "code",
   "execution_count": 43,
   "id": "0394f0be",
   "metadata": {},
   "outputs": [
    {
     "data": {
      "text/plain": [
       "array([[ 0.03095869,  0.8332773 , -0.33489284, ..., -0.73550427,\n",
       "        -2.1031032 ,  1.3322728 ],\n",
       "       [-1.2294525 , -1.3427999 , -2.5964887 , ..., -0.7594257 ,\n",
       "        -1.6533849 ,  1.3537633 ],\n",
       "       [-1.0247782 ,  0.6423838 ,  0.18924412, ..., -1.4604032 ,\n",
       "        -0.5714494 ,  0.64133114],\n",
       "       ...,\n",
       "       [-2.4528732 , -1.44428   , -3.1398833 , ..., -2.94882   ,\n",
       "         0.11791333, -0.85885334],\n",
       "       [-0.8269908 ,  0.61809164, -1.6619991 , ..., -0.7525367 ,\n",
       "        -1.3240949 ,  1.7089282 ],\n",
       "       [-1.3106201 ,  1.473043  , -2.6764333 , ..., -1.8536516 ,\n",
       "        -1.9657301 ,  1.1303643 ]], dtype=float32)"
      ]
     },
     "execution_count": 43,
     "metadata": {},
     "output_type": "execute_result"
    }
   ],
   "source": [
    "X_train_2d"
   ]
  },
  {
   "cell_type": "markdown",
   "id": "91c124f4",
   "metadata": {},
   "source": [
    "## DecisionTreeClassifier"
   ]
  },
  {
   "cell_type": "code",
   "execution_count": 45,
   "id": "9c6c8a2e",
   "metadata": {},
   "outputs": [
    {
     "name": "stdout",
     "output_type": "stream",
     "text": [
      "              precision    recall  f1-score   support\n",
      "\n",
      "           0       0.69      0.66      0.67       276\n",
      "           1       0.65      0.65      0.65       277\n",
      "           2       0.64      0.61      0.62       276\n",
      "           3       0.59      0.65      0.62       276\n",
      "\n",
      "    accuracy                           0.64      1105\n",
      "   macro avg       0.64      0.64      0.64      1105\n",
      "weighted avg       0.64      0.64      0.64      1105\n",
      "\n"
     ]
    }
   ],
   "source": [
    "from sklearn.tree import DecisionTreeClassifier\n",
    "from sklearn.metrics import classification_report\n",
    "\n",
    "\n",
    "#1. creating a Decision Tree model object\n",
    "clf = DecisionTreeClassifier()\n",
    "\n",
    "#2. fit with all_train_embeddings and y_train\n",
    "clf.fit(X_train_2d, y_train)\n",
    "\n",
    "\n",
    "#3. get the predictions for all_test_embeddings and store it in y_pred\n",
    "y_pred = clf.predict(X_test_2d)\n",
    "\n",
    "\n",
    "#4. print the classfication report\n",
    "print(classification_report(y_test, y_pred))"
   ]
  },
  {
   "cell_type": "markdown",
   "id": "92142e49",
   "metadata": {},
   "source": [
    "## MultinomialNB"
   ]
  },
  {
   "cell_type": "code",
   "execution_count": 49,
   "id": "508875c0",
   "metadata": {},
   "outputs": [
    {
     "name": "stdout",
     "output_type": "stream",
     "text": [
      "              precision    recall  f1-score   support\n",
      "\n",
      "           0       0.87      0.83      0.85       276\n",
      "           1       0.76      0.78      0.77       277\n",
      "           2       0.69      0.75      0.72       276\n",
      "           3       0.76      0.71      0.73       276\n",
      "\n",
      "    accuracy                           0.77      1105\n",
      "   macro avg       0.77      0.77      0.77      1105\n",
      "weighted avg       0.77      0.77      0.77      1105\n",
      "\n"
     ]
    }
   ],
   "source": [
    "from sklearn.naive_bayes import MultinomialNB\n",
    "from sklearn.preprocessing import MinMaxScaler\n",
    "\n",
    "#doing scaling because Negative values will not pass into Naive Bayes models\n",
    "scaler = MinMaxScaler()                                         \n",
    "scaled_train_embed = scaler.fit_transform(X_train_2d)\n",
    "scaled_test_embed = scaler.transform(X_test_2d)\n",
    "\n",
    "#1. creating a MultinomialNB model object \n",
    "clf = MultinomialNB()\n",
    "\n",
    "#2. fit with all_train_embeddings and y_train\n",
    "clf.fit(scaled_train_embed , y_train) \n",
    "\n",
    "\n",
    "#3. get the predictions for all_test_embeddings and store it in y_pred\n",
    "y_pred = clf.predict(scaled_test_embed)\n",
    "\n",
    "\n",
    "#4. print the classfication report\n",
    "print(classification_report(y_test, y_pred))"
   ]
  },
  {
   "cell_type": "markdown",
   "id": "4b01a9f0",
   "metadata": {},
   "source": [
    "## KNeighborsClassifier"
   ]
  },
  {
   "cell_type": "code",
   "execution_count": 50,
   "id": "7d22716b",
   "metadata": {},
   "outputs": [
    {
     "name": "stdout",
     "output_type": "stream",
     "text": [
      "              precision    recall  f1-score   support\n",
      "\n",
      "           0       0.77      0.90      0.83       276\n",
      "           1       0.84      0.80      0.82       277\n",
      "           2       0.73      0.81      0.77       276\n",
      "           3       0.91      0.70      0.79       276\n",
      "\n",
      "    accuracy                           0.80      1105\n",
      "   macro avg       0.81      0.80      0.80      1105\n",
      "weighted avg       0.81      0.80      0.80      1105\n",
      "\n"
     ]
    }
   ],
   "source": [
    "from  sklearn.neighbors import KNeighborsClassifier\n",
    "\n",
    "\n",
    "#1. creating a KNN model object\n",
    "clf = KNeighborsClassifier(n_neighbors = 5, metric = 'euclidean')\n",
    "\n",
    "#2. fit with all_train_embeddings and y_train\n",
    "clf.fit(X_train_2d, y_train)\n",
    "\n",
    "\n",
    "#3. get the predictions for all_test_embeddings and store it in y_pred\n",
    "y_pred = clf.predict(X_test_2d)\n",
    "\n",
    "\n",
    "#4. print the classfication report\n",
    "print(classification_report(y_test, y_pred))"
   ]
  },
  {
   "cell_type": "markdown",
   "id": "e5edc17b",
   "metadata": {},
   "source": [
    "## RandomForestClassifier"
   ]
  },
  {
   "cell_type": "code",
   "execution_count": 51,
   "id": "b3e2922b",
   "metadata": {},
   "outputs": [
    {
     "name": "stdout",
     "output_type": "stream",
     "text": [
      "              precision    recall  f1-score   support\n",
      "\n",
      "           0       0.86      0.84      0.85       276\n",
      "           1       0.85      0.84      0.84       277\n",
      "           2       0.78      0.77      0.78       276\n",
      "           3       0.78      0.82      0.80       276\n",
      "\n",
      "    accuracy                           0.82      1105\n",
      "   macro avg       0.82      0.82      0.82      1105\n",
      "weighted avg       0.82      0.82      0.82      1105\n",
      "\n"
     ]
    }
   ],
   "source": [
    "from sklearn.ensemble import RandomForestClassifier\n",
    "\n",
    "\n",
    "#1. creating a Random Forest model object\n",
    "clf = RandomForestClassifier()\n",
    "\n",
    "\n",
    "#2. fit with all_train_embeddings and y_train\n",
    "clf.fit(X_train_2d, y_train)\n",
    "\n",
    "\n",
    "#3. get the predictions for all_test_embeddings and store it in y_pred\n",
    "y_pred = clf.predict(X_test_2d)\n",
    "\n",
    "\n",
    "#4. print the classfication report\n",
    "print(classification_report(y_test, y_pred))"
   ]
  },
  {
   "cell_type": "markdown",
   "id": "a97abfb6",
   "metadata": {},
   "source": [
    "## GradientBoostingClassifier"
   ]
  },
  {
   "cell_type": "code",
   "execution_count": 52,
   "id": "db74940f",
   "metadata": {},
   "outputs": [
    {
     "name": "stdout",
     "output_type": "stream",
     "text": [
      "              precision    recall  f1-score   support\n",
      "\n",
      "           0       0.91      0.87      0.89       276\n",
      "           1       0.86      0.88      0.87       277\n",
      "           2       0.82      0.85      0.83       276\n",
      "           3       0.84      0.84      0.84       276\n",
      "\n",
      "    accuracy                           0.86      1105\n",
      "   macro avg       0.86      0.86      0.86      1105\n",
      "weighted avg       0.86      0.86      0.86      1105\n",
      "\n"
     ]
    }
   ],
   "source": [
    "from sklearn.ensemble import GradientBoostingClassifier\n",
    "\n",
    "\n",
    "#1. creating a GradientBoosting model object\n",
    "clf = GradientBoostingClassifier()\n",
    "\n",
    "#2. fit with all_train_embeddings and y_train\n",
    "clf.fit(X_train_2d, y_train)\n",
    "\n",
    "\n",
    "#3. get the predictions for all_test_embeddings and store it in y_pred\n",
    "y_pred = clf.predict(X_test_2d)\n",
    "\n",
    "\n",
    "#4. print the classfication report\n",
    "print(classification_report(y_test, y_pred))"
   ]
  },
  {
   "cell_type": "markdown",
   "id": "7bf1ead2",
   "metadata": {},
   "source": [
    "## Print the confusion Matrix with the best model got\n",
    "\n"
   ]
  },
  {
   "cell_type": "code",
   "execution_count": 56,
   "id": "7e514aea",
   "metadata": {},
   "outputs": [
    {
     "data": {
      "text/plain": [
       "Text(95.72222222222221, 0.5, 'Truth')"
      ]
     },
     "execution_count": 56,
     "metadata": {},
     "output_type": "execute_result"
    },
    {
     "data": {
      "image/png": "[encoded data removed]",
      "text/plain": [
       "<Figure size 1000x700 with 2 Axes>"
      ]
     },
     "metadata": {},
     "output_type": "display_data"
    }
   ],
   "source": [
    "#finally print the confusion matrix for the best model: GradientBoostingClassifier\n",
    "\n",
    "from sklearn.metrics import confusion_matrix\n",
    "cm = confusion_matrix(y_test, y_pred)\n",
    "cm\n",
    "\n",
    "\n",
    "from matplotlib import pyplot as plt\n",
    "import seaborn as sn\n",
    "plt.figure(figsize = (10,7))\n",
    "sn.heatmap(cm, annot=True, fmt='d')\n",
    "plt.xlabel('Prediction')\n",
    "plt.ylabel('Truth')"
   ]
  },
  {
   "cell_type": "code",
   "execution_count": null,
   "id": "a0cdafea",
   "metadata": {},
   "outputs": [],
   "source": []
  }
 ],
 "metadata": {
  "kernelspec": {
   "display_name": "Python 3 (ipykernel)",
   "language": "python",
   "name": "python3"
  },
  "language_info": {
   "codemirror_mode": {
    "name": "ipython",
    "version": 3
   },
   "file_extension": ".py",
   "mimetype": "text/x-python",
   "name": "python",
   "nbconvert_exporter": "python",
   "pygments_lexer": "ipython3",
   "version": "3.10.9"
  }
 },
 "nbformat": 4,
 "nbformat_minor": 5
}
